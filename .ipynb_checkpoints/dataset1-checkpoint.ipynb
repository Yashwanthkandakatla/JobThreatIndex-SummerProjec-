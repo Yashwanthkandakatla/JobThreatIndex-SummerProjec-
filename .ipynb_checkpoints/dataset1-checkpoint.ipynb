{
 "cells": [
  {
   "cell_type": "code",
   "execution_count": 27,
   "id": "c7dcf5ae",
   "metadata": {},
   "outputs": [],
   "source": [
    "import pandas as pd"
   ]
  },
  {
   "cell_type": "code",
   "execution_count": 28,
   "id": "eee15aa8",
   "metadata": {},
   "outputs": [],
   "source": [
    "df2=pd.read_csv('Dataset1.csv')"
   ]
  },
  {
   "cell_type": "code",
   "execution_count": 29,
   "id": "c2fffb21",
   "metadata": {},
   "outputs": [],
   "source": [
    "df3=df2"
   ]
  },
  {
   "cell_type": "code",
   "execution_count": 30,
   "id": "0b567a89",
   "metadata": {},
   "outputs": [
    {
     "data": {
      "text/html": [
       "<div>\n",
       "<style scoped>\n",
       "    .dataframe tbody tr th:only-of-type {\n",
       "        vertical-align: middle;\n",
       "    }\n",
       "\n",
       "    .dataframe tbody tr th {\n",
       "        vertical-align: top;\n",
       "    }\n",
       "\n",
       "    .dataframe thead th {\n",
       "        text-align: right;\n",
       "    }\n",
       "</style>\n",
       "<table border=\"1\" class=\"dataframe\">\n",
       "  <thead>\n",
       "    <tr style=\"text-align: right;\">\n",
       "      <th></th>\n",
       "      <th>Job titiles</th>\n",
       "      <th>AI Impact</th>\n",
       "      <th>Tasks</th>\n",
       "      <th>AI models</th>\n",
       "      <th>AI_Workload_Ratio</th>\n",
       "      <th>Domain</th>\n",
       "    </tr>\n",
       "  </thead>\n",
       "  <tbody>\n",
       "    <tr>\n",
       "      <th>0</th>\n",
       "      <td>Communications Manager</td>\n",
       "      <td>98%</td>\n",
       "      <td>365</td>\n",
       "      <td>2546</td>\n",
       "      <td>0.143362</td>\n",
       "      <td>Communication &amp; PR</td>\n",
       "    </tr>\n",
       "    <tr>\n",
       "      <th>1</th>\n",
       "      <td>Data Collector</td>\n",
       "      <td>95%</td>\n",
       "      <td>299</td>\n",
       "      <td>2148</td>\n",
       "      <td>0.139199</td>\n",
       "      <td>Data &amp; IT</td>\n",
       "    </tr>\n",
       "    <tr>\n",
       "      <th>2</th>\n",
       "      <td>Data Entry</td>\n",
       "      <td>95%</td>\n",
       "      <td>325</td>\n",
       "      <td>2278</td>\n",
       "      <td>0.142669</td>\n",
       "      <td>Administrative &amp; Clerical</td>\n",
       "    </tr>\n",
       "    <tr>\n",
       "      <th>3</th>\n",
       "      <td>Mail Clerk</td>\n",
       "      <td>95%</td>\n",
       "      <td>193</td>\n",
       "      <td>1366</td>\n",
       "      <td>0.141288</td>\n",
       "      <td>Leadership &amp; Strategy</td>\n",
       "    </tr>\n",
       "    <tr>\n",
       "      <th>4</th>\n",
       "      <td>Compliance Officer</td>\n",
       "      <td>92%</td>\n",
       "      <td>194</td>\n",
       "      <td>1369</td>\n",
       "      <td>0.141709</td>\n",
       "      <td>Medical &amp; Healthcare</td>\n",
       "    </tr>\n",
       "  </tbody>\n",
       "</table>\n",
       "</div>"
      ],
      "text/plain": [
       "              Job titiles AI Impact  Tasks  AI models  AI_Workload_Ratio  \\\n",
       "0  Communications Manager       98%    365       2546           0.143362   \n",
       "1          Data Collector       95%    299       2148           0.139199   \n",
       "2              Data Entry       95%    325       2278           0.142669   \n",
       "3              Mail Clerk       95%    193       1366           0.141288   \n",
       "4      Compliance Officer       92%    194       1369           0.141709   \n",
       "\n",
       "                      Domain  \n",
       "0         Communication & PR  \n",
       "1                  Data & IT  \n",
       "2  Administrative & Clerical  \n",
       "3      Leadership & Strategy  \n",
       "4       Medical & Healthcare  "
      ]
     },
     "execution_count": 30,
     "metadata": {},
     "output_type": "execute_result"
    }
   ],
   "source": [
    "df2.head()"
   ]
  },
  {
   "cell_type": "code",
   "execution_count": 32,
   "id": "5d47c955",
   "metadata": {},
   "outputs": [],
   "source": [
    "a1=df2['AI Impact']"
   ]
  },
  {
   "cell_type": "code",
   "execution_count": 34,
   "id": "b22cd14c",
   "metadata": {},
   "outputs": [],
   "source": [
    "df2.drop('AI Impact',axis=1,inplace=True)"
   ]
  },
  {
   "cell_type": "code",
   "execution_count": 35,
   "id": "0947177c",
   "metadata": {},
   "outputs": [
    {
     "data": {
      "text/html": [
       "<div>\n",
       "<style scoped>\n",
       "    .dataframe tbody tr th:only-of-type {\n",
       "        vertical-align: middle;\n",
       "    }\n",
       "\n",
       "    .dataframe tbody tr th {\n",
       "        vertical-align: top;\n",
       "    }\n",
       "\n",
       "    .dataframe thead th {\n",
       "        text-align: right;\n",
       "    }\n",
       "</style>\n",
       "<table border=\"1\" class=\"dataframe\">\n",
       "  <thead>\n",
       "    <tr style=\"text-align: right;\">\n",
       "      <th></th>\n",
       "      <th>Job titiles</th>\n",
       "      <th>Tasks</th>\n",
       "      <th>AI models</th>\n",
       "      <th>AI_Workload_Ratio</th>\n",
       "      <th>Domain</th>\n",
       "    </tr>\n",
       "  </thead>\n",
       "  <tbody>\n",
       "    <tr>\n",
       "      <th>0</th>\n",
       "      <td>Communications Manager</td>\n",
       "      <td>365</td>\n",
       "      <td>2546</td>\n",
       "      <td>0.143362</td>\n",
       "      <td>Communication &amp; PR</td>\n",
       "    </tr>\n",
       "    <tr>\n",
       "      <th>1</th>\n",
       "      <td>Data Collector</td>\n",
       "      <td>299</td>\n",
       "      <td>2148</td>\n",
       "      <td>0.139199</td>\n",
       "      <td>Data &amp; IT</td>\n",
       "    </tr>\n",
       "    <tr>\n",
       "      <th>2</th>\n",
       "      <td>Data Entry</td>\n",
       "      <td>325</td>\n",
       "      <td>2278</td>\n",
       "      <td>0.142669</td>\n",
       "      <td>Administrative &amp; Clerical</td>\n",
       "    </tr>\n",
       "    <tr>\n",
       "      <th>3</th>\n",
       "      <td>Mail Clerk</td>\n",
       "      <td>193</td>\n",
       "      <td>1366</td>\n",
       "      <td>0.141288</td>\n",
       "      <td>Leadership &amp; Strategy</td>\n",
       "    </tr>\n",
       "    <tr>\n",
       "      <th>4</th>\n",
       "      <td>Compliance Officer</td>\n",
       "      <td>194</td>\n",
       "      <td>1369</td>\n",
       "      <td>0.141709</td>\n",
       "      <td>Medical &amp; Healthcare</td>\n",
       "    </tr>\n",
       "  </tbody>\n",
       "</table>\n",
       "</div>"
      ],
      "text/plain": [
       "              Job titiles  Tasks  AI models  AI_Workload_Ratio  \\\n",
       "0  Communications Manager    365       2546           0.143362   \n",
       "1          Data Collector    299       2148           0.139199   \n",
       "2              Data Entry    325       2278           0.142669   \n",
       "3              Mail Clerk    193       1366           0.141288   \n",
       "4      Compliance Officer    194       1369           0.141709   \n",
       "\n",
       "                      Domain  \n",
       "0         Communication & PR  \n",
       "1                  Data & IT  \n",
       "2  Administrative & Clerical  \n",
       "3      Leadership & Strategy  \n",
       "4       Medical & Healthcare  "
      ]
     },
     "execution_count": 35,
     "metadata": {},
     "output_type": "execute_result"
    }
   ],
   "source": [
    "df2.head()"
   ]
  },
  {
   "cell_type": "code",
   "execution_count": 36,
   "id": "cf3a430f",
   "metadata": {},
   "outputs": [
    {
     "data": {
      "text/html": [
       "<div>\n",
       "<style scoped>\n",
       "    .dataframe tbody tr th:only-of-type {\n",
       "        vertical-align: middle;\n",
       "    }\n",
       "\n",
       "    .dataframe tbody tr th {\n",
       "        vertical-align: top;\n",
       "    }\n",
       "\n",
       "    .dataframe thead th {\n",
       "        text-align: right;\n",
       "    }\n",
       "</style>\n",
       "<table border=\"1\" class=\"dataframe\">\n",
       "  <thead>\n",
       "    <tr style=\"text-align: right;\">\n",
       "      <th></th>\n",
       "      <th>Job titiles</th>\n",
       "      <th>Tasks</th>\n",
       "      <th>AI models</th>\n",
       "      <th>AI_Workload_Ratio</th>\n",
       "      <th>Domain</th>\n",
       "      <th>AI Impact</th>\n",
       "    </tr>\n",
       "  </thead>\n",
       "  <tbody>\n",
       "    <tr>\n",
       "      <th>0</th>\n",
       "      <td>Communications Manager</td>\n",
       "      <td>365</td>\n",
       "      <td>2546</td>\n",
       "      <td>0.143362</td>\n",
       "      <td>Communication &amp; PR</td>\n",
       "      <td>98%</td>\n",
       "    </tr>\n",
       "    <tr>\n",
       "      <th>1</th>\n",
       "      <td>Data Collector</td>\n",
       "      <td>299</td>\n",
       "      <td>2148</td>\n",
       "      <td>0.139199</td>\n",
       "      <td>Data &amp; IT</td>\n",
       "      <td>95%</td>\n",
       "    </tr>\n",
       "    <tr>\n",
       "      <th>2</th>\n",
       "      <td>Data Entry</td>\n",
       "      <td>325</td>\n",
       "      <td>2278</td>\n",
       "      <td>0.142669</td>\n",
       "      <td>Administrative &amp; Clerical</td>\n",
       "      <td>95%</td>\n",
       "    </tr>\n",
       "    <tr>\n",
       "      <th>3</th>\n",
       "      <td>Mail Clerk</td>\n",
       "      <td>193</td>\n",
       "      <td>1366</td>\n",
       "      <td>0.141288</td>\n",
       "      <td>Leadership &amp; Strategy</td>\n",
       "      <td>95%</td>\n",
       "    </tr>\n",
       "    <tr>\n",
       "      <th>4</th>\n",
       "      <td>Compliance Officer</td>\n",
       "      <td>194</td>\n",
       "      <td>1369</td>\n",
       "      <td>0.141709</td>\n",
       "      <td>Medical &amp; Healthcare</td>\n",
       "      <td>92%</td>\n",
       "    </tr>\n",
       "    <tr>\n",
       "      <th>...</th>\n",
       "      <td>...</td>\n",
       "      <td>...</td>\n",
       "      <td>...</td>\n",
       "      <td>...</td>\n",
       "      <td>...</td>\n",
       "      <td>...</td>\n",
       "    </tr>\n",
       "    <tr>\n",
       "      <th>4701</th>\n",
       "      <td>Singer</td>\n",
       "      <td>686</td>\n",
       "      <td>2798</td>\n",
       "      <td>0.245175</td>\n",
       "      <td>Data &amp; IT</td>\n",
       "      <td>5%</td>\n",
       "    </tr>\n",
       "    <tr>\n",
       "      <th>4702</th>\n",
       "      <td>Airport</td>\n",
       "      <td>556</td>\n",
       "      <td>2206</td>\n",
       "      <td>0.252040</td>\n",
       "      <td>Administrative &amp; Clerical</td>\n",
       "      <td>5%</td>\n",
       "    </tr>\n",
       "    <tr>\n",
       "      <th>4703</th>\n",
       "      <td>Director</td>\n",
       "      <td>1316</td>\n",
       "      <td>4695</td>\n",
       "      <td>0.280298</td>\n",
       "      <td>Leadership &amp; Strategy</td>\n",
       "      <td>5%</td>\n",
       "    </tr>\n",
       "    <tr>\n",
       "      <th>4704</th>\n",
       "      <td>Nurse</td>\n",
       "      <td>710</td>\n",
       "      <td>2594</td>\n",
       "      <td>0.273709</td>\n",
       "      <td>Medical &amp; Healthcare</td>\n",
       "      <td>5%</td>\n",
       "    </tr>\n",
       "    <tr>\n",
       "      <th>4705</th>\n",
       "      <td>Technician</td>\n",
       "      <td>825</td>\n",
       "      <td>3256</td>\n",
       "      <td>0.253378</td>\n",
       "      <td>Supply Chain &amp; Logistics</td>\n",
       "      <td>5%</td>\n",
       "    </tr>\n",
       "  </tbody>\n",
       "</table>\n",
       "<p>4706 rows × 6 columns</p>\n",
       "</div>"
      ],
      "text/plain": [
       "                 Job titiles  Tasks  AI models  AI_Workload_Ratio  \\\n",
       "0     Communications Manager    365       2546           0.143362   \n",
       "1             Data Collector    299       2148           0.139199   \n",
       "2                 Data Entry    325       2278           0.142669   \n",
       "3                 Mail Clerk    193       1366           0.141288   \n",
       "4         Compliance Officer    194       1369           0.141709   \n",
       "...                      ...    ...        ...                ...   \n",
       "4701                  Singer    686       2798           0.245175   \n",
       "4702                 Airport    556       2206           0.252040   \n",
       "4703                Director   1316       4695           0.280298   \n",
       "4704                   Nurse    710       2594           0.273709   \n",
       "4705              Technician    825       3256           0.253378   \n",
       "\n",
       "                         Domain AI Impact  \n",
       "0            Communication & PR       98%  \n",
       "1                     Data & IT       95%  \n",
       "2     Administrative & Clerical       95%  \n",
       "3         Leadership & Strategy       95%  \n",
       "4          Medical & Healthcare       92%  \n",
       "...                         ...       ...  \n",
       "4701                  Data & IT        5%  \n",
       "4702  Administrative & Clerical        5%  \n",
       "4703      Leadership & Strategy        5%  \n",
       "4704       Medical & Healthcare        5%  \n",
       "4705   Supply Chain & Logistics        5%  \n",
       "\n",
       "[4706 rows x 6 columns]"
      ]
     },
     "execution_count": 36,
     "metadata": {},
     "output_type": "execute_result"
    }
   ],
   "source": [
    "pd.concat([df2,a1],axis=1)"
   ]
  },
  {
   "cell_type": "code",
   "execution_count": 37,
   "id": "b05a90eb",
   "metadata": {},
   "outputs": [],
   "source": [
    "job=df2['Job titiles']"
   ]
  },
  {
   "cell_type": "code",
   "execution_count": 38,
   "id": "6546a0a3",
   "metadata": {},
   "outputs": [
    {
     "data": {
      "text/plain": [
       "0    Communications Manager\n",
       "1            Data Collector\n",
       "2                Data Entry\n",
       "3                Mail Clerk\n",
       "4        Compliance Officer\n",
       "Name: Job titiles, dtype: object"
      ]
     },
     "execution_count": 38,
     "metadata": {},
     "output_type": "execute_result"
    }
   ],
   "source": [
    "job.head()"
   ]
  },
  {
   "cell_type": "code",
   "execution_count": 45,
   "id": "7bdc62af",
   "metadata": {
    "scrolled": true
   },
   "outputs": [
    {
     "data": {
      "text/plain": [
       "pandas.core.series.Series"
      ]
     },
     "execution_count": 45,
     "metadata": {},
     "output_type": "execute_result"
    }
   ],
   "source": [
    "type(job)"
   ]
  },
  {
   "cell_type": "code",
   "execution_count": 47,
   "id": "2f39f5c8",
   "metadata": {},
   "outputs": [],
   "source": [
    "jobtitles=[]\n",
    "for i in job:\n",
    "    jobtitles.append(i)"
   ]
  },
  {
   "cell_type": "code",
   "execution_count": 52,
   "id": "e5d17da2",
   "metadata": {},
   "outputs": [],
   "source": [
    "from sklearn.preprocessing import LabelEncoder"
   ]
  },
  {
   "cell_type": "code",
   "execution_count": 53,
   "id": "fe854b25",
   "metadata": {},
   "outputs": [],
   "source": [
    "le = LabelEncoder()"
   ]
  },
  {
   "cell_type": "code",
   "execution_count": 54,
   "id": "2ad22ba4",
   "metadata": {},
   "outputs": [],
   "source": [
    "job=le.fit_transform(job)"
   ]
  },
  {
   "cell_type": "code",
   "execution_count": 57,
   "id": "bb639f57",
   "metadata": {},
   "outputs": [
    {
     "data": {
      "text/plain": [
       "array([ 841, 1083, 1085, ..., 1209, 2844, 4343])"
      ]
     },
     "execution_count": 57,
     "metadata": {},
     "output_type": "execute_result"
    }
   ],
   "source": [
    "job"
   ]
  },
  {
   "cell_type": "code",
   "execution_count": 60,
   "id": "fe0dcdec",
   "metadata": {},
   "outputs": [],
   "source": [
    "job2=df2['Job titiles']"
   ]
  },
  {
   "cell_type": "code",
   "execution_count": 61,
   "id": "e261f039",
   "metadata": {},
   "outputs": [
    {
     "ename": "NameError",
     "evalue": "name 'ordinal_mapping' is not defined",
     "output_type": "error",
     "traceback": [
      "\u001b[1;31m---------------------------------------------------------------------------\u001b[0m",
      "\u001b[1;31mNameError\u001b[0m                                 Traceback (most recent call last)",
      "Input \u001b[1;32mIn [61]\u001b[0m, in \u001b[0;36m<cell line: 1>\u001b[1;34m()\u001b[0m\n\u001b[1;32m----> 1\u001b[0m job2\u001b[38;5;241m=\u001b[39mjob2\u001b[38;5;241m.\u001b[39mmap(\u001b[43mordinal_mapping\u001b[49m)\n",
      "\u001b[1;31mNameError\u001b[0m: name 'ordinal_mapping' is not defined"
     ]
    }
   ],
   "source": []
  },
  {
   "cell_type": "code",
   "execution_count": null,
   "id": "0425989c",
   "metadata": {},
   "outputs": [],
   "source": []
  }
 ],
 "metadata": {
  "kernelspec": {
   "display_name": "Python 3 (ipykernel)",
   "language": "python",
   "name": "python3"
  },
  "language_info": {
   "codemirror_mode": {
    "name": "ipython",
    "version": 3
   },
   "file_extension": ".py",
   "mimetype": "text/x-python",
   "name": "python",
   "nbconvert_exporter": "python",
   "pygments_lexer": "ipython3",
   "version": "3.9.12"
  }
 },
 "nbformat": 4,
 "nbformat_minor": 5
}
